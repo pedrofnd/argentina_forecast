{
 "cells": [
  {
   "cell_type": "code",
   "execution_count": 1,
   "id": "f5a56b37",
   "metadata": {
    "executionCancelledAt": null,
    "executionTime": 502,
    "lastExecutedAt": 1693103058569,
    "lastScheduledRunId": null,
    "lastSuccessfullyExecutedCode": "# Importação dos pacotes necessários\n    \nimport pandas as pd # manipulação de dado em formato de dataframe\nimport seaborn as sns # biblioteca de visualização de informações estatísticas\nimport matplotlib.pyplot as plt # biblioteca de visualização de dados\nimport statsmodels.api as sm # biblioteca de modelagem estatística\nimport numpy as np # biblioteca para operações matemáticas multidimensionais\nfrom statsmodels.iolib.summary2 import summary_col\nfrom skimage import io\nimport plotly.graph_objs as go\nfrom scipy.stats import pearsonr\nfrom sklearn.preprocessing import LabelEncoder\nfrom IPython.core.interactiveshell import InteractiveShell  \nInteractiveShell.ast_node_interactivity = \"all\""
   },
   "outputs": [],
   "source": [
    "# Importação dos pacotes necessários\n",
    "    \n",
    "import pandas as pd # manipulação de dado em formato de dataframe\n",
    "import seaborn as sns # biblioteca de visualização de informações estatísticas\n",
    "import matplotlib.pyplot as plt # biblioteca de visualização de dados\n",
    "import statsmodels.api as sm # biblioteca de modelagem estatística\n",
    "import numpy as np # biblioteca para operações matemáticas multidimensionais\n",
    "from statsmodels.iolib.summary2 import summary_col\n",
    "from skimage import io\n",
    "import plotly.graph_objs as go\n",
    "from scipy.stats import pearsonr\n",
    "from sklearn.preprocessing import LabelEncoder\n",
    "from IPython.core.interactiveshell import InteractiveShell  \n",
    "InteractiveShell.ast_node_interactivity = \"all\""
   ]
  },
  {
   "cell_type": "code",
   "execution_count": 2,
   "id": "4627a766",
   "metadata": {
    "executionCancelledAt": null,
    "executionTime": 62,
    "lastExecutedAt": 1693103058633,
    "lastScheduledRunId": null,
    "lastSuccessfullyExecutedCode": "df_init = pd.read_csv('balanco_mensal.csv', delimiter=';', encoding=\"utf-8\")\ndf_gera = df_init\ndf_gera.head()\n\n# converter 'energia(mwh)' para int64\ndf_gera['energia(mwh)'] = df_init['energia(mwh)'].str.replace(',', '').astype('int64')\n\n#Características das variáveis do dataset\ndf_gera.info()\n\n#Estatísticas univariadas\ndf_gera.describe()\n\n#Checando missing values\nmissing = df_gera.isna().any()\nprint(\"Columns with missing values:\")\nprint(missing)",
    "outputsMetadata": {
     "0": {
      "height": 192,
      "type": "dataFrame"
     },
     "1": {
      "height": 329,
      "type": "stream"
     },
     "2": {
      "height": 265,
      "type": "dataFrame"
     },
     "3": {
      "height": 232,
      "type": "stream"
     }
    }
   },
   "outputs": [
    {
     "data": {
      "text/html": [
       "<div>\n",
       "<style scoped>\n",
       "    .dataframe tbody tr th:only-of-type {\n",
       "        vertical-align: middle;\n",
       "    }\n",
       "\n",
       "    .dataframe tbody tr th {\n",
       "        vertical-align: top;\n",
       "    }\n",
       "\n",
       "    .dataframe thead th {\n",
       "        text-align: right;\n",
       "    }\n",
       "</style>\n",
       "<table border=\"1\" class=\"dataframe\">\n",
       "  <thead>\n",
       "    <tr style=\"text-align: right;\">\n",
       "      <th></th>\n",
       "      <th>data</th>\n",
       "      <th>energia(mwmed)</th>\n",
       "      <th>temp</th>\n",
       "    </tr>\n",
       "  </thead>\n",
       "  <tbody>\n",
       "    <tr>\n",
       "      <th>0</th>\n",
       "      <td>01/01/2016</td>\n",
       "      <td>17205</td>\n",
       "      <td>25.6</td>\n",
       "    </tr>\n",
       "    <tr>\n",
       "      <th>1</th>\n",
       "      <td>01/02/2016</td>\n",
       "      <td>17435</td>\n",
       "      <td>26.1</td>\n",
       "    </tr>\n",
       "    <tr>\n",
       "      <th>2</th>\n",
       "      <td>01/03/2016</td>\n",
       "      <td>14569</td>\n",
       "      <td>21.2</td>\n",
       "    </tr>\n",
       "    <tr>\n",
       "      <th>3</th>\n",
       "      <td>01/04/2016</td>\n",
       "      <td>14897</td>\n",
       "      <td>17.3</td>\n",
       "    </tr>\n",
       "    <tr>\n",
       "      <th>4</th>\n",
       "      <td>01/05/2016</td>\n",
       "      <td>15772</td>\n",
       "      <td>12.6</td>\n",
       "    </tr>\n",
       "  </tbody>\n",
       "</table>\n",
       "</div>"
      ],
      "text/plain": [
       "         data  energia(mwmed)  temp\n",
       "0  01/01/2016           17205  25.6\n",
       "1  01/02/2016           17435  26.1\n",
       "2  01/03/2016           14569  21.2\n",
       "3  01/04/2016           14897  17.3\n",
       "4  01/05/2016           15772  12.6"
      ]
     },
     "execution_count": 2,
     "metadata": {},
     "output_type": "execute_result"
    },
    {
     "name": "stdout",
     "output_type": "stream",
     "text": [
      "<class 'pandas.core.frame.DataFrame'>\n",
      "RangeIndex: 90 entries, 0 to 89\n",
      "Data columns (total 3 columns):\n",
      " #   Column          Non-Null Count  Dtype  \n",
      "---  ------          --------------  -----  \n",
      " 0   data            90 non-null     object \n",
      " 1   energia(mwmed)  90 non-null     int64  \n",
      " 2   temp            90 non-null     float64\n",
      "dtypes: float64(1), int64(1), object(1)\n",
      "memory usage: 2.2+ KB\n"
     ]
    },
    {
     "data": {
      "text/html": [
       "<div>\n",
       "<style scoped>\n",
       "    .dataframe tbody tr th:only-of-type {\n",
       "        vertical-align: middle;\n",
       "    }\n",
       "\n",
       "    .dataframe tbody tr th {\n",
       "        vertical-align: top;\n",
       "    }\n",
       "\n",
       "    .dataframe thead th {\n",
       "        text-align: right;\n",
       "    }\n",
       "</style>\n",
       "<table border=\"1\" class=\"dataframe\">\n",
       "  <thead>\n",
       "    <tr style=\"text-align: right;\">\n",
       "      <th></th>\n",
       "      <th>energia(mwmed)</th>\n",
       "      <th>temp</th>\n",
       "    </tr>\n",
       "  </thead>\n",
       "  <tbody>\n",
       "    <tr>\n",
       "      <th>count</th>\n",
       "      <td>90.000000</td>\n",
       "      <td>90.000000</td>\n",
       "    </tr>\n",
       "    <tr>\n",
       "      <th>mean</th>\n",
       "      <td>15917.811111</td>\n",
       "      <td>18.836000</td>\n",
       "    </tr>\n",
       "    <tr>\n",
       "      <th>std</th>\n",
       "      <td>1391.267532</td>\n",
       "      <td>5.112697</td>\n",
       "    </tr>\n",
       "    <tr>\n",
       "      <th>min</th>\n",
       "      <td>12612.000000</td>\n",
       "      <td>10.600000</td>\n",
       "    </tr>\n",
       "    <tr>\n",
       "      <th>25%</th>\n",
       "      <td>14859.750000</td>\n",
       "      <td>14.150000</td>\n",
       "    </tr>\n",
       "    <tr>\n",
       "      <th>50%</th>\n",
       "      <td>15771.500000</td>\n",
       "      <td>18.150000</td>\n",
       "    </tr>\n",
       "    <tr>\n",
       "      <th>75%</th>\n",
       "      <td>17042.500000</td>\n",
       "      <td>23.425000</td>\n",
       "    </tr>\n",
       "    <tr>\n",
       "      <th>max</th>\n",
       "      <td>19651.000000</td>\n",
       "      <td>30.300000</td>\n",
       "    </tr>\n",
       "  </tbody>\n",
       "</table>\n",
       "</div>"
      ],
      "text/plain": [
       "       energia(mwmed)       temp\n",
       "count       90.000000  90.000000\n",
       "mean     15917.811111  18.836000\n",
       "std       1391.267532   5.112697\n",
       "min      12612.000000  10.600000\n",
       "25%      14859.750000  14.150000\n",
       "50%      15771.500000  18.150000\n",
       "75%      17042.500000  23.425000\n",
       "max      19651.000000  30.300000"
      ]
     },
     "execution_count": 2,
     "metadata": {},
     "output_type": "execute_result"
    },
    {
     "name": "stdout",
     "output_type": "stream",
     "text": [
      "Columns with missing values:\n",
      "data              False\n",
      "energia(mwmed)    False\n",
      "temp              False\n",
      "dtype: bool\n"
     ]
    }
   ],
   "source": [
    "df_init = pd.read_csv('db_oferta_groupdata.csv', delimiter=';', encoding=\"utf-8\")\n",
    "df_gera = df_init\n",
    "df_gera.head()\n",
    "\n",
    "# converter 'energia(mwh)' para int64\n",
    "#df_gera['energia(mwh)'] = df_init['energia(mwh)'].str.replace(',', '').astype('int64')\n",
    "\n",
    "#Características das variáveis do dataset\n",
    "df_gera.info()\n",
    "\n",
    "#Estatísticas univariadas\n",
    "df_gera.describe()\n",
    "\n",
    "#Checando missing values\n",
    "missing = df_gera.isna().any()\n",
    "print(\"Columns with missing values:\")\n",
    "print(missing)"
   ]
  },
  {
   "cell_type": "code",
   "execution_count": 3,
   "id": "86216a0f-74e1-4ec0-b323-4cfc70ba1fd0",
   "metadata": {
    "executionCancelledAt": null,
    "executionTime": 45,
    "lastExecutedAt": 1693103068366,
    "lastScheduledRunId": null,
    "lastSuccessfullyExecutedCode": "# Inverter ordem das colunas para ter data mais atualizada primeiro\n\ndf_gera['data'] = pd.to_datetime(df_gera['data'], format='%d/%m/%Y')\ndf_temp['data'] = pd.to_datetime(df_temp['data'], format='%Y-%m-%d')\ndf_grouped = df_gera.groupby('data')\ndf_grouped = df_grouped.sum().sort_values(by='data', ascending=False)\n\n\n#Juntando ambos dataframes\ndf_merge = df_temp.merge(df_grouped[['energia(mwh)']], on='data', how='right')\n\n# Reordernando colunas\ndf_gera = df_merge[['data', 'energia(mwh)', 'temp_arg', 'temp_arg_min', 'temp_arg_max']]\n\ndf_gera.head()\ndf_gera.describe()\n",
    "outputsMetadata": {
     "2": {
      "height": 192,
      "type": "dataFrame"
     },
     "3": {
      "height": 265,
      "type": "dataFrame"
     }
    }
   },
   "outputs": [
    {
     "data": {
      "text/html": [
       "<div>\n",
       "<style scoped>\n",
       "    .dataframe tbody tr th:only-of-type {\n",
       "        vertical-align: middle;\n",
       "    }\n",
       "\n",
       "    .dataframe tbody tr th {\n",
       "        vertical-align: top;\n",
       "    }\n",
       "\n",
       "    .dataframe thead th {\n",
       "        text-align: right;\n",
       "    }\n",
       "</style>\n",
       "<table border=\"1\" class=\"dataframe\">\n",
       "  <thead>\n",
       "    <tr style=\"text-align: right;\">\n",
       "      <th></th>\n",
       "      <th>data</th>\n",
       "      <th>energia(mwmed)</th>\n",
       "      <th>temp</th>\n",
       "    </tr>\n",
       "  </thead>\n",
       "  <tbody>\n",
       "    <tr>\n",
       "      <th>0</th>\n",
       "      <td>2016-01-01</td>\n",
       "      <td>17205</td>\n",
       "      <td>25.6</td>\n",
       "    </tr>\n",
       "    <tr>\n",
       "      <th>1</th>\n",
       "      <td>2016-02-01</td>\n",
       "      <td>17435</td>\n",
       "      <td>26.1</td>\n",
       "    </tr>\n",
       "    <tr>\n",
       "      <th>2</th>\n",
       "      <td>2016-03-01</td>\n",
       "      <td>14569</td>\n",
       "      <td>21.2</td>\n",
       "    </tr>\n",
       "    <tr>\n",
       "      <th>3</th>\n",
       "      <td>2016-04-01</td>\n",
       "      <td>14897</td>\n",
       "      <td>17.3</td>\n",
       "    </tr>\n",
       "    <tr>\n",
       "      <th>4</th>\n",
       "      <td>2016-05-01</td>\n",
       "      <td>15772</td>\n",
       "      <td>12.6</td>\n",
       "    </tr>\n",
       "  </tbody>\n",
       "</table>\n",
       "</div>"
      ],
      "text/plain": [
       "        data  energia(mwmed)  temp\n",
       "0 2016-01-01           17205  25.6\n",
       "1 2016-02-01           17435  26.1\n",
       "2 2016-03-01           14569  21.2\n",
       "3 2016-04-01           14897  17.3\n",
       "4 2016-05-01           15772  12.6"
      ]
     },
     "execution_count": 3,
     "metadata": {},
     "output_type": "execute_result"
    },
    {
     "data": {
      "text/html": [
       "<div>\n",
       "<style scoped>\n",
       "    .dataframe tbody tr th:only-of-type {\n",
       "        vertical-align: middle;\n",
       "    }\n",
       "\n",
       "    .dataframe tbody tr th {\n",
       "        vertical-align: top;\n",
       "    }\n",
       "\n",
       "    .dataframe thead th {\n",
       "        text-align: right;\n",
       "    }\n",
       "</style>\n",
       "<table border=\"1\" class=\"dataframe\">\n",
       "  <thead>\n",
       "    <tr style=\"text-align: right;\">\n",
       "      <th></th>\n",
       "      <th>data</th>\n",
       "      <th>energia(mwmed)</th>\n",
       "      <th>temp</th>\n",
       "    </tr>\n",
       "  </thead>\n",
       "  <tbody>\n",
       "    <tr>\n",
       "      <th>count</th>\n",
       "      <td>90</td>\n",
       "      <td>90.000000</td>\n",
       "      <td>90.000000</td>\n",
       "    </tr>\n",
       "    <tr>\n",
       "      <th>mean</th>\n",
       "      <td>2019-09-16 04:00:00</td>\n",
       "      <td>15917.811111</td>\n",
       "      <td>18.836000</td>\n",
       "    </tr>\n",
       "    <tr>\n",
       "      <th>min</th>\n",
       "      <td>2016-01-01 00:00:00</td>\n",
       "      <td>12612.000000</td>\n",
       "      <td>10.600000</td>\n",
       "    </tr>\n",
       "    <tr>\n",
       "      <th>25%</th>\n",
       "      <td>2017-11-08 12:00:00</td>\n",
       "      <td>14859.750000</td>\n",
       "      <td>14.150000</td>\n",
       "    </tr>\n",
       "    <tr>\n",
       "      <th>50%</th>\n",
       "      <td>2019-09-16 00:00:00</td>\n",
       "      <td>15771.500000</td>\n",
       "      <td>18.150000</td>\n",
       "    </tr>\n",
       "    <tr>\n",
       "      <th>75%</th>\n",
       "      <td>2021-07-24 06:00:00</td>\n",
       "      <td>17042.500000</td>\n",
       "      <td>23.425000</td>\n",
       "    </tr>\n",
       "    <tr>\n",
       "      <th>max</th>\n",
       "      <td>2023-06-01 00:00:00</td>\n",
       "      <td>19651.000000</td>\n",
       "      <td>30.300000</td>\n",
       "    </tr>\n",
       "    <tr>\n",
       "      <th>std</th>\n",
       "      <td>NaN</td>\n",
       "      <td>1391.267532</td>\n",
       "      <td>5.112697</td>\n",
       "    </tr>\n",
       "  </tbody>\n",
       "</table>\n",
       "</div>"
      ],
      "text/plain": [
       "                      data  energia(mwmed)       temp\n",
       "count                   90       90.000000  90.000000\n",
       "mean   2019-09-16 04:00:00    15917.811111  18.836000\n",
       "min    2016-01-01 00:00:00    12612.000000  10.600000\n",
       "25%    2017-11-08 12:00:00    14859.750000  14.150000\n",
       "50%    2019-09-16 00:00:00    15771.500000  18.150000\n",
       "75%    2021-07-24 06:00:00    17042.500000  23.425000\n",
       "max    2023-06-01 00:00:00    19651.000000  30.300000\n",
       "std                    NaN     1391.267532   5.112697"
      ]
     },
     "execution_count": 3,
     "metadata": {},
     "output_type": "execute_result"
    }
   ],
   "source": [
    "# Inverter ordem das colunas para ter data mais atualizada primeiro\n",
    "\n",
    "df_gera['data'] = pd.to_datetime(df_gera['data'], format='%d/%m/%Y')\n",
    "\n",
    "df_gera.head()\n",
    "df_gera.describe()\n"
   ]
  },
  {
   "cell_type": "code",
   "execution_count": 4,
   "id": "7b0890fd",
   "metadata": {
    "executionCancelledAt": null,
    "executionTime": 55,
    "lastExecutedAt": 1693103077302,
    "lastScheduledRunId": null,
    "lastSuccessfullyExecutedCode": "#Verificamos presença de missing values e valores nulos no dataset\n\n#removendo missing values\ndf_gera.dropna(inplace=True)\n\n#removendo valores nulos\ndf_gera.rename(columns = {'energia(mwh)':'energia'},inplace=True)\n\n# Removing null values in the 'energia' column\ndf_gera = df_gera[df_gera['energia'].notnull()]\n\ndf_gera.describe()",
    "outputsMetadata": {
     "0": {
      "height": 265,
      "type": "dataFrame"
     }
    }
   },
   "outputs": [
    {
     "data": {
      "text/html": [
       "<div>\n",
       "<style scoped>\n",
       "    .dataframe tbody tr th:only-of-type {\n",
       "        vertical-align: middle;\n",
       "    }\n",
       "\n",
       "    .dataframe tbody tr th {\n",
       "        vertical-align: top;\n",
       "    }\n",
       "\n",
       "    .dataframe thead th {\n",
       "        text-align: right;\n",
       "    }\n",
       "</style>\n",
       "<table border=\"1\" class=\"dataframe\">\n",
       "  <thead>\n",
       "    <tr style=\"text-align: right;\">\n",
       "      <th></th>\n",
       "      <th>data</th>\n",
       "      <th>energia</th>\n",
       "      <th>temp</th>\n",
       "    </tr>\n",
       "  </thead>\n",
       "  <tbody>\n",
       "    <tr>\n",
       "      <th>count</th>\n",
       "      <td>90</td>\n",
       "      <td>90.000000</td>\n",
       "      <td>90.000000</td>\n",
       "    </tr>\n",
       "    <tr>\n",
       "      <th>mean</th>\n",
       "      <td>2019-09-16 04:00:00</td>\n",
       "      <td>15917.811111</td>\n",
       "      <td>18.836000</td>\n",
       "    </tr>\n",
       "    <tr>\n",
       "      <th>min</th>\n",
       "      <td>2016-01-01 00:00:00</td>\n",
       "      <td>12612.000000</td>\n",
       "      <td>10.600000</td>\n",
       "    </tr>\n",
       "    <tr>\n",
       "      <th>25%</th>\n",
       "      <td>2017-11-08 12:00:00</td>\n",
       "      <td>14859.750000</td>\n",
       "      <td>14.150000</td>\n",
       "    </tr>\n",
       "    <tr>\n",
       "      <th>50%</th>\n",
       "      <td>2019-09-16 00:00:00</td>\n",
       "      <td>15771.500000</td>\n",
       "      <td>18.150000</td>\n",
       "    </tr>\n",
       "    <tr>\n",
       "      <th>75%</th>\n",
       "      <td>2021-07-24 06:00:00</td>\n",
       "      <td>17042.500000</td>\n",
       "      <td>23.425000</td>\n",
       "    </tr>\n",
       "    <tr>\n",
       "      <th>max</th>\n",
       "      <td>2023-06-01 00:00:00</td>\n",
       "      <td>19651.000000</td>\n",
       "      <td>30.300000</td>\n",
       "    </tr>\n",
       "    <tr>\n",
       "      <th>std</th>\n",
       "      <td>NaN</td>\n",
       "      <td>1391.267532</td>\n",
       "      <td>5.112697</td>\n",
       "    </tr>\n",
       "  </tbody>\n",
       "</table>\n",
       "</div>"
      ],
      "text/plain": [
       "                      data       energia       temp\n",
       "count                   90     90.000000  90.000000\n",
       "mean   2019-09-16 04:00:00  15917.811111  18.836000\n",
       "min    2016-01-01 00:00:00  12612.000000  10.600000\n",
       "25%    2017-11-08 12:00:00  14859.750000  14.150000\n",
       "50%    2019-09-16 00:00:00  15771.500000  18.150000\n",
       "75%    2021-07-24 06:00:00  17042.500000  23.425000\n",
       "max    2023-06-01 00:00:00  19651.000000  30.300000\n",
       "std                    NaN   1391.267532   5.112697"
      ]
     },
     "execution_count": 4,
     "metadata": {},
     "output_type": "execute_result"
    }
   ],
   "source": [
    "\n",
    "#removendo valores nulos\n",
    "df_gera.rename(columns = {'energia(mwmed)':'energia'},inplace=True)\n",
    "\n",
    "# Removing null values in the 'energia' column\n",
    "df_gera = df_gera[df_gera['energia'].notnull()]\n",
    "\n",
    "df_gera.describe()"
   ]
  },
  {
   "cell_type": "code",
   "execution_count": 5,
   "id": "006f2981",
   "metadata": {},
   "outputs": [
    {
     "data": {
      "text/html": [
       "<div>\n",
       "<style scoped>\n",
       "    .dataframe tbody tr th:only-of-type {\n",
       "        vertical-align: middle;\n",
       "    }\n",
       "\n",
       "    .dataframe tbody tr th {\n",
       "        vertical-align: top;\n",
       "    }\n",
       "\n",
       "    .dataframe thead th {\n",
       "        text-align: right;\n",
       "    }\n",
       "</style>\n",
       "<table border=\"1\" class=\"dataframe\">\n",
       "  <thead>\n",
       "    <tr style=\"text-align: right;\">\n",
       "      <th></th>\n",
       "      <th>data</th>\n",
       "      <th>energia</th>\n",
       "      <th>temp</th>\n",
       "    </tr>\n",
       "  </thead>\n",
       "  <tbody>\n",
       "    <tr>\n",
       "      <th>count</th>\n",
       "      <td>89</td>\n",
       "      <td>89.000000</td>\n",
       "      <td>89.000000</td>\n",
       "    </tr>\n",
       "    <tr>\n",
       "      <th>mean</th>\n",
       "      <td>2019-09-01 23:43:49.213483264</td>\n",
       "      <td>15875.865169</td>\n",
       "      <td>18.707191</td>\n",
       "    </tr>\n",
       "    <tr>\n",
       "      <th>min</th>\n",
       "      <td>2016-01-01 00:00:00</td>\n",
       "      <td>12612.000000</td>\n",
       "      <td>10.600000</td>\n",
       "    </tr>\n",
       "    <tr>\n",
       "      <th>25%</th>\n",
       "      <td>2017-11-01 00:00:00</td>\n",
       "      <td>14850.000000</td>\n",
       "      <td>14.100000</td>\n",
       "    </tr>\n",
       "    <tr>\n",
       "      <th>50%</th>\n",
       "      <td>2019-09-01 00:00:00</td>\n",
       "      <td>15771.000000</td>\n",
       "      <td>18.100000</td>\n",
       "    </tr>\n",
       "    <tr>\n",
       "      <th>75%</th>\n",
       "      <td>2021-07-01 00:00:00</td>\n",
       "      <td>17035.000000</td>\n",
       "      <td>23.200000</td>\n",
       "    </tr>\n",
       "    <tr>\n",
       "      <th>max</th>\n",
       "      <td>2023-06-01 00:00:00</td>\n",
       "      <td>19138.000000</td>\n",
       "      <td>26.900000</td>\n",
       "    </tr>\n",
       "    <tr>\n",
       "      <th>std</th>\n",
       "      <td>NaN</td>\n",
       "      <td>1340.697598</td>\n",
       "      <td>4.992643</td>\n",
       "    </tr>\n",
       "  </tbody>\n",
       "</table>\n",
       "</div>"
      ],
      "text/plain": [
       "                                data       energia       temp\n",
       "count                             89     89.000000  89.000000\n",
       "mean   2019-09-01 23:43:49.213483264  15875.865169  18.707191\n",
       "min              2016-01-01 00:00:00  12612.000000  10.600000\n",
       "25%              2017-11-01 00:00:00  14850.000000  14.100000\n",
       "50%              2019-09-01 00:00:00  15771.000000  18.100000\n",
       "75%              2021-07-01 00:00:00  17035.000000  23.200000\n",
       "max              2023-06-01 00:00:00  19138.000000  26.900000\n",
       "std                              NaN   1340.697598   4.992643"
      ]
     },
     "execution_count": 5,
     "metadata": {},
     "output_type": "execute_result"
    }
   ],
   "source": [
    "# Calculando z-scores para temp e energia\n",
    "z_scores_temp = (df_gera['temp'] - df_gera['temp'].mean()) / df_gera['temp'].std()\n",
    "z_scores_energia = (df_gera['energia'] - df_gera['energia'].mean()) / df_gera['energia'].std()\n",
    "\n",
    "# Definir a thereshold para detecção de anomalias\n",
    "threshold = 2\n",
    "\n",
    "df_gera = df_gera[(np.abs(z_scores_temp) < threshold)]\n",
    "\n",
    "df_gera.describe()"
   ]
  },
  {
   "cell_type": "code",
   "execution_count": 6,
   "id": "e30cabfe",
   "metadata": {
    "executionCancelledAt": null,
    "executionTime": 402,
    "lastExecutedAt": 1693103078096,
    "lastScheduledRunId": null,
    "lastSuccessfullyExecutedCode": "# Matriz de correlações\n#dropando coluna date\ndf_corr = df_gera.drop(columns='data')\n# Calculate the correlation matrix\ncorr = df_corr.corr()\ncorr\n\nplt.figure(figsize=(15,10))\nsns.heatmap(df_corr.corr(), annot=True, cmap = plt.cm.inferno,\n            annot_kws={'size':22})\nplt.show()",
    "outputsMetadata": {
     "0": {
      "height": 167,
      "type": "dataFrame"
     }
    }
   },
   "outputs": [
    {
     "data": {
      "text/html": [
       "<div>\n",
       "<style scoped>\n",
       "    .dataframe tbody tr th:only-of-type {\n",
       "        vertical-align: middle;\n",
       "    }\n",
       "\n",
       "    .dataframe tbody tr th {\n",
       "        vertical-align: top;\n",
       "    }\n",
       "\n",
       "    .dataframe thead th {\n",
       "        text-align: right;\n",
       "    }\n",
       "</style>\n",
       "<table border=\"1\" class=\"dataframe\">\n",
       "  <thead>\n",
       "    <tr style=\"text-align: right;\">\n",
       "      <th></th>\n",
       "      <th>energia</th>\n",
       "      <th>temp</th>\n",
       "    </tr>\n",
       "  </thead>\n",
       "  <tbody>\n",
       "    <tr>\n",
       "      <th>energia</th>\n",
       "      <td>1.000000</td>\n",
       "      <td>0.146681</td>\n",
       "    </tr>\n",
       "    <tr>\n",
       "      <th>temp</th>\n",
       "      <td>0.146681</td>\n",
       "      <td>1.000000</td>\n",
       "    </tr>\n",
       "  </tbody>\n",
       "</table>\n",
       "</div>"
      ],
      "text/plain": [
       "          energia      temp\n",
       "energia  1.000000  0.146681\n",
       "temp     0.146681  1.000000"
      ]
     },
     "execution_count": 6,
     "metadata": {},
     "output_type": "execute_result"
    },
    {
     "data": {
      "text/plain": [
       "<Figure size 1080x720 with 0 Axes>"
      ]
     },
     "execution_count": 6,
     "metadata": {},
     "output_type": "execute_result"
    },
    {
     "data": {
      "text/plain": [
       "<AxesSubplot:>"
      ]
     },
     "execution_count": 6,
     "metadata": {},
     "output_type": "execute_result"
    },
    {
     "data": {
      "image/png": "[encoded data removed]",
      "text/plain": [
       "<Figure size 1080x720 with 2 Axes>"
      ]
     },
     "metadata": {
      "needs_background": "light"
     },
     "output_type": "display_data"
    }
   ],
   "source": [
    "# Matriz de correlações\n",
    "#dropando coluna date\n",
    "df_corr = df_gera.drop(columns='data')\n",
    "# Calculate the correlation matrix\n",
    "corr = df_corr.corr()\n",
    "corr\n",
    "\n",
    "plt.figure(figsize=(15,10))\n",
    "sns.heatmap(df_corr.corr(), annot=True, cmap = plt.cm.inferno,\n",
    "            annot_kws={'size':22})\n",
    "plt.show()"
   ]
  },
  {
   "cell_type": "code",
   "execution_count": 7,
   "id": "096b8f2e",
   "metadata": {
    "executionCancelledAt": null,
    "executionTime": 37,
    "lastExecutedAt": 1693103078543,
    "lastScheduledRunId": null,
    "lastSuccessfullyExecutedCode": "# Estimando um modelo múltiplo com as variáveis do dataset 'paises'\n\n#Estimando a regressão múltipla\nmodelo_OLS = sm.OLS.from_formula(\"energia ~ temp_arg + temp_arg_max\", df_gera).fit()\n\n#Parâmetros do modelo\nmodelo_OLS.summary()\n\n#Parâmetros do modelo com intervalos de confiança\n#Nível de significância de 5% / Nível de confiança de 95%\nmodelo_OLS.conf_int(alpha=0.05)",
    "scrolled": true
   },
   "outputs": [
    {
     "data": {
      "text/html": [
       "<table class=\"simpletable\">\n",
       "<caption>OLS Regression Results</caption>\n",
       "<tr>\n",
       "  <th>Dep. Variable:</th>         <td>energia</td>     <th>  R-squared:         </th> <td>   0.022</td>\n",
       "</tr>\n",
       "<tr>\n",
       "  <th>Model:</th>                   <td>OLS</td>       <th>  Adj. R-squared:    </th> <td>   0.010</td>\n",
       "</tr>\n",
       "<tr>\n",
       "  <th>Method:</th>             <td>Least Squares</td>  <th>  F-statistic:       </th> <td>   1.913</td>\n",
       "</tr>\n",
       "<tr>\n",
       "  <th>Date:</th>             <td>Thu, 21 Sep 2023</td> <th>  Prob (F-statistic):</th>  <td> 0.170</td> \n",
       "</tr>\n",
       "<tr>\n",
       "  <th>Time:</th>                 <td>22:39:17</td>     <th>  Log-Likelihood:    </th> <td> -765.70</td>\n",
       "</tr>\n",
       "<tr>\n",
       "  <th>No. Observations:</th>      <td>    89</td>      <th>  AIC:               </th> <td>   1535.</td>\n",
       "</tr>\n",
       "<tr>\n",
       "  <th>Df Residuals:</th>          <td>    87</td>      <th>  BIC:               </th> <td>   1540.</td>\n",
       "</tr>\n",
       "<tr>\n",
       "  <th>Df Model:</th>              <td>     1</td>      <th>                     </th>     <td> </td>   \n",
       "</tr>\n",
       "<tr>\n",
       "  <th>Covariance Type:</th>      <td>nonrobust</td>    <th>                     </th>     <td> </td>   \n",
       "</tr>\n",
       "</table>\n",
       "<table class=\"simpletable\">\n",
       "<tr>\n",
       "      <td></td>         <th>coef</th>     <th>std err</th>      <th>t</th>      <th>P>|t|</th>  <th>[0.025</th>    <th>0.975]</th>  \n",
       "</tr>\n",
       "<tr>\n",
       "  <th>Intercept</th> <td> 1.514e+04</td> <td>  551.194</td> <td>   27.466</td> <td> 0.000</td> <td>  1.4e+04</td> <td> 1.62e+04</td>\n",
       "</tr>\n",
       "<tr>\n",
       "  <th>temp</th>      <td>   39.3889</td> <td>   28.479</td> <td>    1.383</td> <td> 0.170</td> <td>  -17.215</td> <td>   95.993</td>\n",
       "</tr>\n",
       "</table>\n",
       "<table class=\"simpletable\">\n",
       "<tr>\n",
       "  <th>Omnibus:</th>       <td> 1.788</td> <th>  Durbin-Watson:     </th> <td>   0.988</td>\n",
       "</tr>\n",
       "<tr>\n",
       "  <th>Prob(Omnibus):</th> <td> 0.409</td> <th>  Jarque-Bera (JB):  </th> <td>   1.653</td>\n",
       "</tr>\n",
       "<tr>\n",
       "  <th>Skew:</th>          <td> 0.224</td> <th>  Prob(JB):          </th> <td>   0.437</td>\n",
       "</tr>\n",
       "<tr>\n",
       "  <th>Kurtosis:</th>      <td> 2.506</td> <th>  Cond. No.          </th> <td>    75.6</td>\n",
       "</tr>\n",
       "</table><br/><br/>Notes:<br/>[1] Standard Errors assume that the covariance matrix of the errors is correctly specified."
      ],
      "text/plain": [
       "<class 'statsmodels.iolib.summary.Summary'>\n",
       "\"\"\"\n",
       "                            OLS Regression Results                            \n",
       "==============================================================================\n",
       "Dep. Variable:                energia   R-squared:                       0.022\n",
       "Model:                            OLS   Adj. R-squared:                  0.010\n",
       "Method:                 Least Squares   F-statistic:                     1.913\n",
       "Date:                Thu, 21 Sep 2023   Prob (F-statistic):              0.170\n",
       "Time:                        22:39:17   Log-Likelihood:                -765.70\n",
       "No. Observations:                  89   AIC:                             1535.\n",
       "Df Residuals:                      87   BIC:                             1540.\n",
       "Df Model:                           1                                         \n",
       "Covariance Type:            nonrobust                                         \n",
       "==============================================================================\n",
       "                 coef    std err          t      P>|t|      [0.025      0.975]\n",
       "------------------------------------------------------------------------------\n",
       "Intercept   1.514e+04    551.194     27.466      0.000     1.4e+04    1.62e+04\n",
       "temp          39.3889     28.479      1.383      0.170     -17.215      95.993\n",
       "==============================================================================\n",
       "Omnibus:                        1.788   Durbin-Watson:                   0.988\n",
       "Prob(Omnibus):                  0.409   Jarque-Bera (JB):                1.653\n",
       "Skew:                           0.224   Prob(JB):                        0.437\n",
       "Kurtosis:                       2.506   Cond. No.                         75.6\n",
       "==============================================================================\n",
       "\n",
       "Notes:\n",
       "[1] Standard Errors assume that the covariance matrix of the errors is correctly specified.\n",
       "\"\"\""
      ]
     },
     "execution_count": 7,
     "metadata": {},
     "output_type": "execute_result"
    },
    {
     "data": {
      "text/html": [
       "<div>\n",
       "<style scoped>\n",
       "    .dataframe tbody tr th:only-of-type {\n",
       "        vertical-align: middle;\n",
       "    }\n",
       "\n",
       "    .dataframe tbody tr th {\n",
       "        vertical-align: top;\n",
       "    }\n",
       "\n",
       "    .dataframe thead th {\n",
       "        text-align: right;\n",
       "    }\n",
       "</style>\n",
       "<table border=\"1\" class=\"dataframe\">\n",
       "  <thead>\n",
       "    <tr style=\"text-align: right;\">\n",
       "      <th></th>\n",
       "      <th>0</th>\n",
       "      <th>1</th>\n",
       "    </tr>\n",
       "  </thead>\n",
       "  <tbody>\n",
       "    <tr>\n",
       "      <th>Intercept</th>\n",
       "      <td>14043.451046</td>\n",
       "      <td>16234.567751</td>\n",
       "    </tr>\n",
       "    <tr>\n",
       "      <th>temp</th>\n",
       "      <td>-17.215274</td>\n",
       "      <td>95.993084</td>\n",
       "    </tr>\n",
       "  </tbody>\n",
       "</table>\n",
       "</div>"
      ],
      "text/plain": [
       "                      0             1\n",
       "Intercept  14043.451046  16234.567751\n",
       "temp         -17.215274     95.993084"
      ]
     },
     "execution_count": 7,
     "metadata": {},
     "output_type": "execute_result"
    }
   ],
   "source": [
    "# Estimando um modelo múltiplo com as variáveis do dataset 'paises'\n",
    "\n",
    "#Estimando a regressão múltipla\n",
    "modelo_OLS = sm.OLS.from_formula(\"energia ~ temp\", df_gera).fit()\n",
    "\n",
    "#Parâmetros do modelo\n",
    "modelo_OLS.summary()\n",
    "\n",
    "#Parâmetros do modelo com intervalos de confiança\n",
    "#Nível de significância de 5% / Nível de confiança de 95%\n",
    "modelo_OLS.conf_int(alpha=0.05)"
   ]
  },
  {
   "cell_type": "code",
   "execution_count": 8,
   "id": "78c9df66",
   "metadata": {
    "executionCancelledAt": null,
    "executionTime": 11,
    "lastExecutedAt": 1693103079538,
    "lastScheduledRunId": null,
    "lastSuccessfullyExecutedCode": "# Transformação de Box-Cox\n\n#Para o cálculo do lambda de Box-Cox\nfrom scipy.stats import boxcox\n\n#xt é uma variável que traz os valores transformados (Y*)\n#'lmbda' é o lambda de Box-Cox\nxt, lmbda = boxcox(df_gera['energia'])\n\nprint(\"Primeiros valores: \",xt[:5])\nprint(\"Lambda: \",lmbda)",
    "outputsMetadata": {
     "0": {
      "height": 56,
      "type": "stream"
     }
    }
   },
   "outputs": [
    {
     "name": "stdout",
     "output_type": "stream",
     "text": [
      "Primeiros valores:  [3.97850407 3.98001488 3.95920051 3.9618264  3.96849905]\n",
      "Lambda:  -0.2227124630968691\n"
     ]
    }
   ],
   "source": [
    "# Transformação de Box-Cox\n",
    "\n",
    "#Para o cálculo do lambda de Box-Cox\n",
    "from scipy.stats import boxcox\n",
    "\n",
    "#xt é uma variável que traz os valores transformados (Y*)\n",
    "#'lmbda' é o lambda de Box-Cox\n",
    "xt, lmbda = boxcox(df_gera['energia'])\n",
    "\n",
    "print(\"Primeiros valores: \",xt[:5])\n",
    "print(\"Lambda: \",lmbda)"
   ]
  },
  {
   "cell_type": "code",
   "execution_count": 9,
   "id": "e9c9014d",
   "metadata": {
    "executionCancelledAt": null,
    "executionTime": 29,
    "lastExecutedAt": 1693103080878,
    "lastScheduledRunId": null,
    "lastSuccessfullyExecutedCode": "df_gera['bc_energia'] = xt\ndf_gera"
   },
   "outputs": [
    {
     "data": {
      "text/html": [
       "<div>\n",
       "<style scoped>\n",
       "    .dataframe tbody tr th:only-of-type {\n",
       "        vertical-align: middle;\n",
       "    }\n",
       "\n",
       "    .dataframe tbody tr th {\n",
       "        vertical-align: top;\n",
       "    }\n",
       "\n",
       "    .dataframe thead th {\n",
       "        text-align: right;\n",
       "    }\n",
       "</style>\n",
       "<table border=\"1\" class=\"dataframe\">\n",
       "  <thead>\n",
       "    <tr style=\"text-align: right;\">\n",
       "      <th></th>\n",
       "      <th>data</th>\n",
       "      <th>energia</th>\n",
       "      <th>temp</th>\n",
       "      <th>bc_energia</th>\n",
       "    </tr>\n",
       "  </thead>\n",
       "  <tbody>\n",
       "    <tr>\n",
       "      <th>0</th>\n",
       "      <td>2016-01-01</td>\n",
       "      <td>17205</td>\n",
       "      <td>25.60</td>\n",
       "      <td>3.978504</td>\n",
       "    </tr>\n",
       "    <tr>\n",
       "      <th>1</th>\n",
       "      <td>2016-02-01</td>\n",
       "      <td>17435</td>\n",
       "      <td>26.10</td>\n",
       "      <td>3.980015</td>\n",
       "    </tr>\n",
       "    <tr>\n",
       "      <th>2</th>\n",
       "      <td>2016-03-01</td>\n",
       "      <td>14569</td>\n",
       "      <td>21.20</td>\n",
       "      <td>3.959201</td>\n",
       "    </tr>\n",
       "    <tr>\n",
       "      <th>3</th>\n",
       "      <td>2016-04-01</td>\n",
       "      <td>14897</td>\n",
       "      <td>17.30</td>\n",
       "      <td>3.961826</td>\n",
       "    </tr>\n",
       "    <tr>\n",
       "      <th>4</th>\n",
       "      <td>2016-05-01</td>\n",
       "      <td>15772</td>\n",
       "      <td>12.60</td>\n",
       "      <td>3.968499</td>\n",
       "    </tr>\n",
       "    <tr>\n",
       "      <th>...</th>\n",
       "      <td>...</td>\n",
       "      <td>...</td>\n",
       "      <td>...</td>\n",
       "      <td>...</td>\n",
       "    </tr>\n",
       "    <tr>\n",
       "      <th>84</th>\n",
       "      <td>2023-01-01</td>\n",
       "      <td>19138</td>\n",
       "      <td>26.90</td>\n",
       "      <td>3.990493</td>\n",
       "    </tr>\n",
       "    <tr>\n",
       "      <th>85</th>\n",
       "      <td>2023-02-01</td>\n",
       "      <td>18571</td>\n",
       "      <td>25.80</td>\n",
       "      <td>3.987135</td>\n",
       "    </tr>\n",
       "    <tr>\n",
       "      <th>87</th>\n",
       "      <td>2023-04-01</td>\n",
       "      <td>14599</td>\n",
       "      <td>18.43</td>\n",
       "      <td>3.959444</td>\n",
       "    </tr>\n",
       "    <tr>\n",
       "      <th>88</th>\n",
       "      <td>2023-05-01</td>\n",
       "      <td>15121</td>\n",
       "      <td>13.84</td>\n",
       "      <td>3.963579</td>\n",
       "    </tr>\n",
       "    <tr>\n",
       "      <th>89</th>\n",
       "      <td>2023-06-01</td>\n",
       "      <td>17446</td>\n",
       "      <td>11.97</td>\n",
       "      <td>3.980087</td>\n",
       "    </tr>\n",
       "  </tbody>\n",
       "</table>\n",
       "<p>89 rows × 4 columns</p>\n",
       "</div>"
      ],
      "text/plain": [
       "         data  energia   temp  bc_energia\n",
       "0  2016-01-01    17205  25.60    3.978504\n",
       "1  2016-02-01    17435  26.10    3.980015\n",
       "2  2016-03-01    14569  21.20    3.959201\n",
       "3  2016-04-01    14897  17.30    3.961826\n",
       "4  2016-05-01    15772  12.60    3.968499\n",
       "..        ...      ...    ...         ...\n",
       "84 2023-01-01    19138  26.90    3.990493\n",
       "85 2023-02-01    18571  25.80    3.987135\n",
       "87 2023-04-01    14599  18.43    3.959444\n",
       "88 2023-05-01    15121  13.84    3.963579\n",
       "89 2023-06-01    17446  11.97    3.980087\n",
       "\n",
       "[89 rows x 4 columns]"
      ]
     },
     "execution_count": 9,
     "metadata": {},
     "output_type": "execute_result"
    }
   ],
   "source": [
    "df_gera['bc_energia'] = xt\n",
    "df_gera"
   ]
  },
  {
   "cell_type": "code",
   "execution_count": 10,
   "id": "77f7f57f",
   "metadata": {
    "executionCancelledAt": null,
    "executionTime": 26,
    "lastExecutedAt": 1693103081279,
    "lastScheduledRunId": null,
    "lastSuccessfullyExecutedCode": "# Estimando um novo modelo múltiplo com variável dependente\n#transformada por Box-Cox\n\nmodelo_bc = sm.OLS.from_formula('bc_energia ~  temp_arg + temp_arg_max', df_gera).fit()\n\n# Parâmetros do modelo\nmodelo_bc.summary()"
   },
   "outputs": [
    {
     "data": {
      "text/html": [
       "<table class=\"simpletable\">\n",
       "<caption>OLS Regression Results</caption>\n",
       "<tr>\n",
       "  <th>Dep. Variable:</th>       <td>bc_energia</td>    <th>  R-squared:         </th> <td>   0.020</td>\n",
       "</tr>\n",
       "<tr>\n",
       "  <th>Model:</th>                   <td>OLS</td>       <th>  Adj. R-squared:    </th> <td>   0.009</td>\n",
       "</tr>\n",
       "<tr>\n",
       "  <th>Method:</th>             <td>Least Squares</td>  <th>  F-statistic:       </th> <td>   1.785</td>\n",
       "</tr>\n",
       "<tr>\n",
       "  <th>Date:</th>             <td>Thu, 21 Sep 2023</td> <th>  Prob (F-statistic):</th>  <td> 0.185</td> \n",
       "</tr>\n",
       "<tr>\n",
       "  <th>Time:</th>                 <td>22:39:17</td>     <th>  Log-Likelihood:    </th> <td>  286.99</td>\n",
       "</tr>\n",
       "<tr>\n",
       "  <th>No. Observations:</th>      <td>    89</td>      <th>  AIC:               </th> <td>  -570.0</td>\n",
       "</tr>\n",
       "<tr>\n",
       "  <th>Df Residuals:</th>          <td>    87</td>      <th>  BIC:               </th> <td>  -565.0</td>\n",
       "</tr>\n",
       "<tr>\n",
       "  <th>Df Model:</th>              <td>     1</td>      <th>                     </th>     <td> </td>   \n",
       "</tr>\n",
       "<tr>\n",
       "  <th>Covariance Type:</th>      <td>nonrobust</td>    <th>                     </th>     <td> </td>   \n",
       "</tr>\n",
       "</table>\n",
       "<table class=\"simpletable\">\n",
       "<tr>\n",
       "      <td></td>         <th>coef</th>     <th>std err</th>      <th>t</th>      <th>P>|t|</th>  <th>[0.025</th>    <th>0.975]</th>  \n",
       "</tr>\n",
       "<tr>\n",
       "  <th>Intercept</th> <td>    3.9636</td> <td>    0.004</td> <td>  985.392</td> <td> 0.000</td> <td>    3.956</td> <td>    3.972</td>\n",
       "</tr>\n",
       "<tr>\n",
       "  <th>temp</th>      <td>    0.0003</td> <td>    0.000</td> <td>    1.336</td> <td> 0.185</td> <td>   -0.000</td> <td>    0.001</td>\n",
       "</tr>\n",
       "</table>\n",
       "<table class=\"simpletable\">\n",
       "<tr>\n",
       "  <th>Omnibus:</th>       <td> 0.830</td> <th>  Durbin-Watson:     </th> <td>   1.000</td>\n",
       "</tr>\n",
       "<tr>\n",
       "  <th>Prob(Omnibus):</th> <td> 0.660</td> <th>  Jarque-Bera (JB):  </th> <td>   0.840</td>\n",
       "</tr>\n",
       "<tr>\n",
       "  <th>Skew:</th>          <td> 0.002</td> <th>  Prob(JB):          </th> <td>   0.657</td>\n",
       "</tr>\n",
       "<tr>\n",
       "  <th>Kurtosis:</th>      <td> 2.524</td> <th>  Cond. No.          </th> <td>    75.6</td>\n",
       "</tr>\n",
       "</table><br/><br/>Notes:<br/>[1] Standard Errors assume that the covariance matrix of the errors is correctly specified."
      ],
      "text/plain": [
       "<class 'statsmodels.iolib.summary.Summary'>\n",
       "\"\"\"\n",
       "                            OLS Regression Results                            \n",
       "==============================================================================\n",
       "Dep. Variable:             bc_energia   R-squared:                       0.020\n",
       "Model:                            OLS   Adj. R-squared:                  0.009\n",
       "Method:                 Least Squares   F-statistic:                     1.785\n",
       "Date:                Thu, 21 Sep 2023   Prob (F-statistic):              0.185\n",
       "Time:                        22:39:17   Log-Likelihood:                 286.99\n",
       "No. Observations:                  89   AIC:                            -570.0\n",
       "Df Residuals:                      87   BIC:                            -565.0\n",
       "Df Model:                           1                                         \n",
       "Covariance Type:            nonrobust                                         \n",
       "==============================================================================\n",
       "                 coef    std err          t      P>|t|      [0.025      0.975]\n",
       "------------------------------------------------------------------------------\n",
       "Intercept      3.9636      0.004    985.392      0.000       3.956       3.972\n",
       "temp           0.0003      0.000      1.336      0.185      -0.000       0.001\n",
       "==============================================================================\n",
       "Omnibus:                        0.830   Durbin-Watson:                   1.000\n",
       "Prob(Omnibus):                  0.660   Jarque-Bera (JB):                0.840\n",
       "Skew:                           0.002   Prob(JB):                        0.657\n",
       "Kurtosis:                       2.524   Cond. No.                         75.6\n",
       "==============================================================================\n",
       "\n",
       "Notes:\n",
       "[1] Standard Errors assume that the covariance matrix of the errors is correctly specified.\n",
       "\"\"\""
      ]
     },
     "execution_count": 10,
     "metadata": {},
     "output_type": "execute_result"
    }
   ],
   "source": [
    "# Estimando um novo modelo múltiplo com variável dependente\n",
    "#transformada por Box-Cox\n",
    "\n",
    "modelo_bc = sm.OLS.from_formula('bc_energia ~  temp', df_gera).fit()\n",
    "\n",
    "# Parâmetros do modelo\n",
    "modelo_bc.summary()"
   ]
  },
  {
   "cell_type": "markdown",
   "id": "5a643949",
   "metadata": {},
   "source": [
    "#### temp não estatísticamente significante como uma variável explicativa. Então vamos excluí-los"
   ]
  },
  {
   "cell_type": "code",
   "execution_count": 11,
   "id": "628ad7c8",
   "metadata": {
    "executionCancelledAt": null,
    "executionTime": 27,
    "lastExecutedAt": 1693103083070,
    "lastScheduledRunId": null,
    "lastSuccessfullyExecutedCode": "# Preparar dados para modelo OLS quadratico\nxdata = df_gera['temp_arg']\nydata = df_gera['energia']\n\n\n# Create a DataFrame for the statsmodels OLS\ndata = {'ydata': ydata, 'xdata': xdata}\ndf = pd.DataFrame(data)\n\n# Fit the OLS model using statsmodels\nmodelo_qd = sm.OLS.from_formula('ydata ~ xdata + np.power(xdata, 2)', data=df).fit()\n# Parâmetros do modelo\nmodelo_qd.summary()\n"
   },
   "outputs": [
    {
     "data": {
      "text/html": [
       "<table class=\"simpletable\">\n",
       "<caption>OLS Regression Results</caption>\n",
       "<tr>\n",
       "  <th>Dep. Variable:</th>          <td>ydata</td>      <th>  R-squared:         </th> <td>   0.778</td>\n",
       "</tr>\n",
       "<tr>\n",
       "  <th>Model:</th>                   <td>OLS</td>       <th>  Adj. R-squared:    </th> <td>   0.772</td>\n",
       "</tr>\n",
       "<tr>\n",
       "  <th>Method:</th>             <td>Least Squares</td>  <th>  F-statistic:       </th> <td>   150.3</td>\n",
       "</tr>\n",
       "<tr>\n",
       "  <th>Date:</th>             <td>Thu, 21 Sep 2023</td> <th>  Prob (F-statistic):</th> <td>8.61e-29</td>\n",
       "</tr>\n",
       "<tr>\n",
       "  <th>Time:</th>                 <td>22:39:17</td>     <th>  Log-Likelihood:    </th> <td> -699.79</td>\n",
       "</tr>\n",
       "<tr>\n",
       "  <th>No. Observations:</th>      <td>    89</td>      <th>  AIC:               </th> <td>   1406.</td>\n",
       "</tr>\n",
       "<tr>\n",
       "  <th>Df Residuals:</th>          <td>    86</td>      <th>  BIC:               </th> <td>   1413.</td>\n",
       "</tr>\n",
       "<tr>\n",
       "  <th>Df Model:</th>              <td>     2</td>      <th>                     </th>     <td> </td>   \n",
       "</tr>\n",
       "<tr>\n",
       "  <th>Covariance Type:</th>      <td>nonrobust</td>    <th>                     </th>     <td> </td>   \n",
       "</tr>\n",
       "</table>\n",
       "<table class=\"simpletable\">\n",
       "<tr>\n",
       "           <td></td>             <th>coef</th>     <th>std err</th>      <th>t</th>      <th>P>|t|</th>  <th>[0.025</th>    <th>0.975]</th>  \n",
       "</tr>\n",
       "<tr>\n",
       "  <th>Intercept</th>          <td> 3.439e+04</td> <td> 1156.539</td> <td>   29.731</td> <td> 0.000</td> <td> 3.21e+04</td> <td> 3.67e+04</td>\n",
       "</tr>\n",
       "<tr>\n",
       "  <th>xdata</th>              <td>-2171.6597</td> <td>  130.066</td> <td>  -16.697</td> <td> 0.000</td> <td>-2430.222</td> <td>-1913.098</td>\n",
       "</tr>\n",
       "<tr>\n",
       "  <th>np.power(xdata, 2)</th> <td>   59.0382</td> <td>    3.454</td> <td>   17.094</td> <td> 0.000</td> <td>   52.172</td> <td>   65.904</td>\n",
       "</tr>\n",
       "</table>\n",
       "<table class=\"simpletable\">\n",
       "<tr>\n",
       "  <th>Omnibus:</th>       <td> 0.540</td> <th>  Durbin-Watson:     </th> <td>   0.659</td>\n",
       "</tr>\n",
       "<tr>\n",
       "  <th>Prob(Omnibus):</th> <td> 0.763</td> <th>  Jarque-Bera (JB):  </th> <td>   0.536</td>\n",
       "</tr>\n",
       "<tr>\n",
       "  <th>Skew:</th>          <td> 0.179</td> <th>  Prob(JB):          </th> <td>   0.765</td>\n",
       "</tr>\n",
       "<tr>\n",
       "  <th>Kurtosis:</th>      <td> 2.871</td> <th>  Cond. No.          </th> <td>7.19e+03</td>\n",
       "</tr>\n",
       "</table><br/><br/>Notes:<br/>[1] Standard Errors assume that the covariance matrix of the errors is correctly specified.<br/>[2] The condition number is large, 7.19e+03. This might indicate that there are<br/>strong multicollinearity or other numerical problems."
      ],
      "text/plain": [
       "<class 'statsmodels.iolib.summary.Summary'>\n",
       "\"\"\"\n",
       "                            OLS Regression Results                            \n",
       "==============================================================================\n",
       "Dep. Variable:                  ydata   R-squared:                       0.778\n",
       "Model:                            OLS   Adj. R-squared:                  0.772\n",
       "Method:                 Least Squares   F-statistic:                     150.3\n",
       "Date:                Thu, 21 Sep 2023   Prob (F-statistic):           8.61e-29\n",
       "Time:                        22:39:17   Log-Likelihood:                -699.79\n",
       "No. Observations:                  89   AIC:                             1406.\n",
       "Df Residuals:                      86   BIC:                             1413.\n",
       "Df Model:                           2                                         \n",
       "Covariance Type:            nonrobust                                         \n",
       "======================================================================================\n",
       "                         coef    std err          t      P>|t|      [0.025      0.975]\n",
       "--------------------------------------------------------------------------------------\n",
       "Intercept           3.439e+04   1156.539     29.731      0.000    3.21e+04    3.67e+04\n",
       "xdata              -2171.6597    130.066    -16.697      0.000   -2430.222   -1913.098\n",
       "np.power(xdata, 2)    59.0382      3.454     17.094      0.000      52.172      65.904\n",
       "==============================================================================\n",
       "Omnibus:                        0.540   Durbin-Watson:                   0.659\n",
       "Prob(Omnibus):                  0.763   Jarque-Bera (JB):                0.536\n",
       "Skew:                           0.179   Prob(JB):                        0.765\n",
       "Kurtosis:                       2.871   Cond. No.                     7.19e+03\n",
       "==============================================================================\n",
       "\n",
       "Notes:\n",
       "[1] Standard Errors assume that the covariance matrix of the errors is correctly specified.\n",
       "[2] The condition number is large, 7.19e+03. This might indicate that there are\n",
       "strong multicollinearity or other numerical problems.\n",
       "\"\"\""
      ]
     },
     "execution_count": 11,
     "metadata": {},
     "output_type": "execute_result"
    }
   ],
   "source": [
    "# Preparar dados para modelo OLS quadratico\n",
    "xdata = df_gera['temp']\n",
    "ydata = df_gera['energia']\n",
    "\n",
    "\n",
    "# Create a DataFrame for the statsmodels OLS\n",
    "data = {'ydata': ydata, 'xdata': xdata}\n",
    "df = pd.DataFrame(data)\n",
    "\n",
    "# Fit the OLS model using statsmodels\n",
    "modelo_qd = sm.OLS.from_formula('ydata ~ xdata + np.power(xdata, 2)', data=df).fit()\n",
    "# Parâmetros do modelo\n",
    "modelo_qd.summary()\n"
   ]
  },
  {
   "cell_type": "code",
   "execution_count": 12,
   "id": "46a4383f",
   "metadata": {
    "executionCancelledAt": null,
    "executionTime": 450,
    "lastExecutedAt": 1693103084043,
    "lastScheduledRunId": null,
    "lastSuccessfullyExecutedCode": "plt.figure(figsize=(10,10))\nsns.scatterplot(x=\"temp_arg\", y=\"energia\", data=df_gera, color='#1f77b4', label='Valores reais')\nsns.lineplot(x=df_gera['temp_arg'].to_numpy(), y=modelo_qd.fittedvalues.to_numpy(), color='#ff7f0e', label='Modelo quadratico')\nsns.lineplot(x=df_gera['temp_arg'].to_numpy(), y=df_gera['energia'].to_numpy() - modelo_qd.fittedvalues.to_numpy(), color='#2ca02c', label='Distancia')\nplt.title('Dados dispersos - modelo quadrático', fontsize=17)\nplt.xlabel('Temperatura (Cº)', fontsize=16)\nplt.ylabel('Carga (mWe)', fontsize=16)\nplt.legend()\nplt.show()"
   },
   "outputs": [
    {
     "data": {
      "text/plain": [
       "<Figure size 720x720 with 0 Axes>"
      ]
     },
     "execution_count": 12,
     "metadata": {},
     "output_type": "execute_result"
    },
    {
     "data": {
      "text/plain": [
       "<AxesSubplot:xlabel='temp', ylabel='energia'>"
      ]
     },
     "execution_count": 12,
     "metadata": {},
     "output_type": "execute_result"
    },
    {
     "data": {
      "text/plain": [
       "<AxesSubplot:xlabel='temp', ylabel='energia'>"
      ]
     },
     "execution_count": 12,
     "metadata": {},
     "output_type": "execute_result"
    },
    {
     "data": {
      "text/plain": [
       "<AxesSubplot:xlabel='temp', ylabel='energia'>"
      ]
     },
     "execution_count": 12,
     "metadata": {},
     "output_type": "execute_result"
    },
    {
     "data": {
      "text/plain": [
       "Text(0.5, 1.0, 'Dados dispersos - modelo quadrático')"
      ]
     },
     "execution_count": 12,
     "metadata": {},
     "output_type": "execute_result"
    },
    {
     "data": {
      "text/plain": [
       "Text(0.5, 0, 'Temperatura (Cº)')"
      ]
     },
     "execution_count": 12,
     "metadata": {},
     "output_type": "execute_result"
    },
    {
     "data": {
      "text/plain": [
       "Text(0, 0.5, 'Carga (mWe)')"
      ]
     },
     "execution_count": 12,
     "metadata": {},
     "output_type": "execute_result"
    },
    {
     "data": {
      "text/plain": [
       "<matplotlib.legend.Legend at 0x24a0f1e0460>"
      ]
     },
     "execution_count": 12,
     "metadata": {},
     "output_type": "execute_result"
    },
    {
     "data": {
      "image/png": "[encoded data removed]",
      "text/plain": [
       "<Figure size 720x720 with 1 Axes>"
      ]
     },
     "metadata": {
      "needs_background": "light"
     },
     "output_type": "display_data"
    }
   ],
   "source": [
    "plt.figure(figsize=(10,10))\n",
    "sns.scatterplot(x=\"temp\", y=\"energia\", data=df_gera, color='#1f77b4', label='Valores reais')\n",
    "sns.lineplot(x=df_gera['temp'].to_numpy(), y=modelo_qd.fittedvalues.to_numpy(), color='#ff7f0e', label='Modelo quadratico')\n",
    "sns.lineplot(x=df_gera['temp'].to_numpy(), y=df_gera['energia'].to_numpy() - modelo_qd.fittedvalues.to_numpy(), color='#2ca02c', label='Distancia')\n",
    "plt.title('Dados dispersos - modelo quadrático', fontsize=17)\n",
    "plt.xlabel('Temperatura (Cº)', fontsize=16)\n",
    "plt.ylabel('Carga (mWe)', fontsize=16)\n",
    "plt.legend()\n",
    "plt.show()"
   ]
  },
  {
   "cell_type": "code",
   "execution_count": 13,
   "id": "52167a15",
   "metadata": {
    "executionCancelledAt": null,
    "executionTime": 28,
    "lastExecutedAt": 1693103084559,
    "lastScheduledRunId": null,
    "lastSuccessfullyExecutedCode": "df_gera['yhat_qd'] = (modelo_qd.fittedvalues)\n\n#Visualizando os dois fitted values no dataset\n#modelos 'modelo_step_empresas e modelo_step_empresas_bc\ndf_gera[['data','energia','temp_arg', 'yhat_qd']]"
   },
   "outputs": [
    {
     "data": {
      "text/html": [
       "<div>\n",
       "<style scoped>\n",
       "    .dataframe tbody tr th:only-of-type {\n",
       "        vertical-align: middle;\n",
       "    }\n",
       "\n",
       "    .dataframe tbody tr th {\n",
       "        vertical-align: top;\n",
       "    }\n",
       "\n",
       "    .dataframe thead th {\n",
       "        text-align: right;\n",
       "    }\n",
       "</style>\n",
       "<table border=\"1\" class=\"dataframe\">\n",
       "  <thead>\n",
       "    <tr style=\"text-align: right;\">\n",
       "      <th></th>\n",
       "      <th>data</th>\n",
       "      <th>energia</th>\n",
       "      <th>temp</th>\n",
       "      <th>yhat_qd</th>\n",
       "    </tr>\n",
       "  </thead>\n",
       "  <tbody>\n",
       "    <tr>\n",
       "      <th>0</th>\n",
       "      <td>2016-01-01</td>\n",
       "      <td>17205</td>\n",
       "      <td>25.60</td>\n",
       "      <td>17482.283121</td>\n",
       "    </tr>\n",
       "    <tr>\n",
       "      <th>1</th>\n",
       "      <td>2016-02-01</td>\n",
       "      <td>17435</td>\n",
       "      <td>26.10</td>\n",
       "      <td>17922.591453</td>\n",
       "    </tr>\n",
       "    <tr>\n",
       "      <th>2</th>\n",
       "      <td>2016-03-01</td>\n",
       "      <td>14569</td>\n",
       "      <td>21.20</td>\n",
       "      <td>14880.433976</td>\n",
       "    </tr>\n",
       "    <tr>\n",
       "      <th>3</th>\n",
       "      <td>2016-04-01</td>\n",
       "      <td>14897</td>\n",
       "      <td>17.30</td>\n",
       "      <td>14485.316924</td>\n",
       "    </tr>\n",
       "    <tr>\n",
       "      <th>4</th>\n",
       "      <td>2016-05-01</td>\n",
       "      <td>15772</td>\n",
       "      <td>12.60</td>\n",
       "      <td>16395.475367</td>\n",
       "    </tr>\n",
       "    <tr>\n",
       "      <th>...</th>\n",
       "      <td>...</td>\n",
       "      <td>...</td>\n",
       "      <td>...</td>\n",
       "      <td>...</td>\n",
       "    </tr>\n",
       "    <tr>\n",
       "      <th>84</th>\n",
       "      <td>2023-01-01</td>\n",
       "      <td>19138</td>\n",
       "      <td>26.90</td>\n",
       "      <td>18688.484541</td>\n",
       "    </tr>\n",
       "    <tr>\n",
       "      <th>85</th>\n",
       "      <td>2023-02-01</td>\n",
       "      <td>18571</td>\n",
       "      <td>25.80</td>\n",
       "      <td>17654.864160</td>\n",
       "    </tr>\n",
       "    <tr>\n",
       "      <th>87</th>\n",
       "      <td>2023-04-01</td>\n",
       "      <td>14599</td>\n",
       "      <td>18.43</td>\n",
       "      <td>14415.004002</td>\n",
       "    </tr>\n",
       "    <tr>\n",
       "      <th>88</th>\n",
       "      <td>2023-05-01</td>\n",
       "      <td>15121</td>\n",
       "      <td>13.84</td>\n",
       "      <td>15638.221061</td>\n",
       "    </tr>\n",
       "    <tr>\n",
       "      <th>89</th>\n",
       "      <td>2023-06-01</td>\n",
       "      <td>17446</td>\n",
       "      <td>11.97</td>\n",
       "      <td>16849.762345</td>\n",
       "    </tr>\n",
       "  </tbody>\n",
       "</table>\n",
       "<p>89 rows × 4 columns</p>\n",
       "</div>"
      ],
      "text/plain": [
       "         data  energia   temp       yhat_qd\n",
       "0  2016-01-01    17205  25.60  17482.283121\n",
       "1  2016-02-01    17435  26.10  17922.591453\n",
       "2  2016-03-01    14569  21.20  14880.433976\n",
       "3  2016-04-01    14897  17.30  14485.316924\n",
       "4  2016-05-01    15772  12.60  16395.475367\n",
       "..        ...      ...    ...           ...\n",
       "84 2023-01-01    19138  26.90  18688.484541\n",
       "85 2023-02-01    18571  25.80  17654.864160\n",
       "87 2023-04-01    14599  18.43  14415.004002\n",
       "88 2023-05-01    15121  13.84  15638.221061\n",
       "89 2023-06-01    17446  11.97  16849.762345\n",
       "\n",
       "[89 rows x 4 columns]"
      ]
     },
     "execution_count": 13,
     "metadata": {},
     "output_type": "execute_result"
    }
   ],
   "source": [
    "df_gera['yhat_qd'] = (modelo_qd.fittedvalues)\n",
    "\n",
    "#Visualizando os dois fitted values no dataset\n",
    "#modelos 'modelo_step_empresas e modelo_step_empresas_bc\n",
    "df_gera[['data','energia','temp', 'yhat_qd']]"
   ]
  },
  {
   "cell_type": "code",
   "execution_count": 14,
   "id": "bf9df684",
   "metadata": {
    "executionCancelledAt": null,
    "executionTime": 13,
    "lastExecutedAt": 1693103085015,
    "lastScheduledRunId": null,
    "lastSuccessfullyExecutedCode": "# Verificando a normalidade dos resíduos do 'modelo_OLS' e 'modelo_bc2'\nfrom scipy.stats import shapiro\n# Teste de Shapiro-Francia\nsf_test_ols = shapiro(modelo_OLS.resid.to_numpy())\nsf_test_qd = shapiro(modelo_qd.resid.to_numpy())\nsf_test_bc = shapiro(modelo_bc.resid.to_numpy())\n\nprint(\"p-value ols:\", sf_test_ols.pvalue)\nprint(\"p-value bc:\", sf_test_bc.pvalue)\nprint(\"p-value qd:\", sf_test_qd.pvalue)",
    "outputsMetadata": {
     "0": {
      "height": 76,
      "type": "stream"
     }
    }
   },
   "outputs": [
    {
     "name": "stdout",
     "output_type": "stream",
     "text": [
      "p-value ols: 0.33318454027175903\n",
      "p-value bc: 0.5055853128433228\n",
      "p-value qd: 0.29500487446784973\n"
     ]
    }
   ],
   "source": [
    "# Verificando a normalidade dos resíduos do 'modelo_OLS' e 'modelo_bc2'\n",
    "from scipy.stats import shapiro\n",
    "# Teste de Shapiro-Francia\n",
    "sf_test_ols = shapiro(modelo_OLS.resid.to_numpy())\n",
    "sf_test_qd = shapiro(modelo_qd.resid.to_numpy())\n",
    "sf_test_bc = shapiro(modelo_bc.resid.to_numpy())\n",
    "\n",
    "print(\"p-value ols:\", sf_test_ols.pvalue)\n",
    "print(\"p-value bc:\", sf_test_bc.pvalue)\n",
    "print(\"p-value qd:\", sf_test_qd.pvalue)"
   ]
  },
  {
   "cell_type": "code",
   "execution_count": 15,
   "id": "c9210b44",
   "metadata": {
    "executionCancelledAt": null,
    "executionTime": 268,
    "lastExecutedAt": 1693103635302,
    "lastScheduledRunId": null,
    "lastSuccessfullyExecutedCode": "import matplotlib.pyplot as plt\nimport numpy as np\nfrom scipy.stats import norm, shapiro\n\n# Resíduos dos modelos\nresid_array_ols = modelo_OLS.resid.to_numpy()\nresid_array_qd = modelo_qd.resid.to_numpy()\nresid_array_bc = modelo_bc.resid.to_numpy()\n\n# Create a single figure\nplt.figure(figsize=(10, 6))\n\n# Plot OLS Quadrático\nplt.hist(resid_array_qd, bins=20, density=True, color='blue', alpha=0.6, label='Histogram')\nx_range_qd = np.linspace(min(resid_array_qd), max(resid_array_qd), 100)\nmu_qd, std_qd = norm.fit(resid_array_qd)\npdf_qd = norm.pdf(x_range_qd, mu_qd, std_qd)\nplt.plot(x_range_qd, pdf_qd, label=\"Normal Fit\", color='red')\nplt.xlabel('Resíduos', fontsize=16)\nplt.ylabel('Densidade', fontsize=16)\nplt.title('Resíduos modelo quadrático', fontsize=16)\n\n# Shapiro-Wilk test for normality\nsf_test_qd = shapiro(resid_array_qd)\nplt.annotate(f\"Shapiro-Wilk p-value: {sf_test_qd.pvalue:.4f}\",\n             xy=(0.05, 0.7), xycoords='axes fraction', fontsize=12)\nplt.legend()\n\n# Show the plot\nplt.tight_layout()\nplt.show()\n"
   },
   "outputs": [
    {
     "data": {
      "text/plain": [
       "<Figure size 720x432 with 0 Axes>"
      ]
     },
     "execution_count": 15,
     "metadata": {},
     "output_type": "execute_result"
    },
    {
     "data": {
      "text/plain": [
       "(array([6.92213361e-05, 0.00000000e+00, 0.00000000e+00, 6.92213361e-05,\n",
       "        6.92213361e-05, 1.38442672e-04, 4.84549353e-04, 5.53770689e-04,\n",
       "        4.15328017e-04, 9.69098705e-04, 4.84549353e-04, 5.53770689e-04,\n",
       "        5.53770689e-04, 4.84549353e-04, 2.76885344e-04, 1.38442672e-04,\n",
       "        4.15328017e-04, 6.92213361e-05, 2.76885344e-04, 1.38442672e-04]),\n",
       " array([-1805.09456895, -1642.77532333, -1480.45607772, -1318.1368321 ,\n",
       "        -1155.81758649,  -993.49834088,  -831.17909526,  -668.85984965,\n",
       "         -506.54060403,  -344.22135842,  -181.9021128 ,   -19.58286719,\n",
       "          142.73637843,   305.05562404,   467.37486966,   629.69411527,\n",
       "          792.01336088,   954.3326065 ,  1116.65185211,  1278.97109773,\n",
       "         1441.29034334]),\n",
       " <BarContainer object of 20 artists>)"
      ]
     },
     "execution_count": 15,
     "metadata": {},
     "output_type": "execute_result"
    },
    {
     "data": {
      "text/plain": [
       "[<matplotlib.lines.Line2D at 0x24a0f42e160>]"
      ]
     },
     "execution_count": 15,
     "metadata": {},
     "output_type": "execute_result"
    },
    {
     "data": {
      "text/plain": [
       "Text(0.5, 0, 'Resíduos')"
      ]
     },
     "execution_count": 15,
     "metadata": {},
     "output_type": "execute_result"
    },
    {
     "data": {
      "text/plain": [
       "Text(0, 0.5, 'Densidade')"
      ]
     },
     "execution_count": 15,
     "metadata": {},
     "output_type": "execute_result"
    },
    {
     "data": {
      "text/plain": [
       "Text(0.5, 1.0, 'Resíduos modelo quadrático')"
      ]
     },
     "execution_count": 15,
     "metadata": {},
     "output_type": "execute_result"
    },
    {
     "data": {
      "text/plain": [
       "Text(0.05, 0.7, 'Shapiro-Wilk p-value: 0.30')"
      ]
     },
     "execution_count": 15,
     "metadata": {},
     "output_type": "execute_result"
    },
    {
     "data": {
      "text/plain": [
       "<matplotlib.legend.Legend at 0x24a0f3f3880>"
      ]
     },
     "execution_count": 15,
     "metadata": {},
     "output_type": "execute_result"
    },
    {
     "data": {
      "image/png": "[encoded data removed]",
      "text/plain": [
       "<Figure size 720x432 with 1 Axes>"
      ]
     },
     "metadata": {
      "needs_background": "light"
     },
     "output_type": "display_data"
    }
   ],
   "source": [
    "import matplotlib.pyplot as plt\n",
    "import numpy as np\n",
    "from scipy.stats import norm, shapiro\n",
    "\n",
    "# Resíduos dos modelos\n",
    "resid_array_ols = modelo_OLS.resid.to_numpy()\n",
    "resid_array_qd = modelo_qd.resid.to_numpy()\n",
    "resid_array_bc = modelo_bc.resid.to_numpy()\n",
    "\n",
    "# Create a single figure\n",
    "plt.figure(figsize=(10, 6))\n",
    "\n",
    "# Plot OLS Quadrático\n",
    "plt.hist(resid_array_qd, bins=20, density=True, color='blue', alpha=0.6, label='Histogram')\n",
    "x_range_qd = np.linspace(min(resid_array_qd), max(resid_array_qd), 100)\n",
    "mu_qd, std_qd = norm.fit(resid_array_qd)\n",
    "pdf_qd = norm.pdf(x_range_qd, mu_qd, std_qd)\n",
    "plt.plot(x_range_qd, pdf_qd, label=\"Normal Fit\", color='red')\n",
    "plt.xlabel('Resíduos', fontsize=16)\n",
    "plt.ylabel('Densidade', fontsize=16)\n",
    "plt.title('Resíduos modelo quadrático', fontsize=16)\n",
    "\n",
    "# Shapiro-Wilk test for normality\n",
    "sf_test_qd = shapiro(resid_array_qd)\n",
    "plt.annotate(f\"Shapiro-Wilk p-value: {sf_test_qd.pvalue:.2f}\",\n",
    "             xy=(0.05, 0.7), xycoords='axes fraction', fontsize=12)\n",
    "plt.legend()\n",
    "\n",
    "# Show the plot\n",
    "plt.tight_layout()\n",
    "plt.show()\n"
   ]
  },
  {
   "cell_type": "code",
   "execution_count": 16,
   "id": "760d43ed",
   "metadata": {
    "executionCancelledAt": null,
    "executionTime": 46,
    "lastExecutedAt": 1693103100213,
    "lastScheduledRunId": null,
    "lastSuccessfullyExecutedCode": "# Resumo dos  três modelos obtidos\n#(linear e com Box-Cox)\n\nsummary_col([modelo_OLS, modelo_bc, modelo_qd],\n            model_names=[\"OLS\",\"STEPWISE BOX-COX\",\"QUADRATICO\"],\n            stars=True,\n            info_dict = {\n                'N':lambda x: \"{0:d}\".format(int(x.nobs))\n        })"
   },
   "outputs": [
    {
     "data": {
      "text/html": [
       "<table class=\"simpletable\">\n",
       "<tr>\n",
       "           <td></td>               <th>OLS</th>      <th>STEPWISE BOX-COX</th>  <th>QUADRATICO</th>  \n",
       "</tr>\n",
       "<tr>\n",
       "  <th>Intercept</th>          <td>15139.0094***</td>     <td>3.9636***</td>    <td>34385.4784***</td>\n",
       "</tr>\n",
       "<tr>\n",
       "  <th></th>                    <td>(551.1943)</td>       <td>(0.0040)</td>      <td>(1156.5392)</td> \n",
       "</tr>\n",
       "<tr>\n",
       "  <th>R-squared</th>             <td>0.0215</td>          <td>0.0201</td>         <td>0.7775</td>    \n",
       "</tr>\n",
       "<tr>\n",
       "  <th>R-squared Adj.</th>        <td>0.0103</td>          <td>0.0088</td>         <td>0.7723</td>    \n",
       "</tr>\n",
       "<tr>\n",
       "  <th>np.power(xdata, 2)</th>       <td></td>                <td></td>          <td>59.0382***</td>  \n",
       "</tr>\n",
       "<tr>\n",
       "  <th></th>                         <td></td>                <td></td>           <td>(3.4537)</td>   \n",
       "</tr>\n",
       "<tr>\n",
       "  <th>temp</th>                  <td>39.3889</td>         <td>0.0003</td>            <td></td>       \n",
       "</tr>\n",
       "<tr>\n",
       "  <th></th>                     <td>(28.4785)</td>       <td>(0.0002)</td>           <td></td>       \n",
       "</tr>\n",
       "<tr>\n",
       "  <th>xdata</th>                    <td></td>                <td></td>         <td>-2171.6597***</td>\n",
       "</tr>\n",
       "<tr>\n",
       "  <th></th>                         <td></td>                <td></td>          <td>(130.0657)</td>  \n",
       "</tr>\n",
       "<tr>\n",
       "  <th>N</th>                       <td>89</td>              <td>89</td>             <td>89</td>      \n",
       "</tr>\n",
       "</table>"
      ],
      "text/plain": [
       "<class 'statsmodels.iolib.summary2.Summary'>\n",
       "\"\"\"\n",
       "\n",
       "===============================================================\n",
       "                        OLS      STEPWISE BOX-COX   QUADRATICO \n",
       "---------------------------------------------------------------\n",
       "Intercept          15139.0094*** 3.9636***        34385.4784***\n",
       "                   (551.1943)    (0.0040)         (1156.5392)  \n",
       "R-squared          0.0215        0.0201           0.7775       \n",
       "R-squared Adj.     0.0103        0.0088           0.7723       \n",
       "np.power(xdata, 2)                                59.0382***   \n",
       "                                                  (3.4537)     \n",
       "temp               39.3889       0.0003                        \n",
       "                   (28.4785)     (0.0002)                      \n",
       "xdata                                             -2171.6597***\n",
       "                                                  (130.0657)   \n",
       "N                  89            89               89           \n",
       "===============================================================\n",
       "Standard errors in parentheses.\n",
       "* p<.1, ** p<.05, ***p<.01\n",
       "\"\"\""
      ]
     },
     "execution_count": 16,
     "metadata": {},
     "output_type": "execute_result"
    }
   ],
   "source": [
    "# Resumo dos  três modelos obtidos\n",
    "#(linear e com Box-Cox)\n",
    "\n",
    "summary_col([modelo_OLS, modelo_bc, modelo_qd],\n",
    "            model_names=[\"OLS\",\"STEPWISE BOX-COX\",\"QUADRATICO\"],\n",
    "            stars=True,\n",
    "            info_dict = {\n",
    "                'N':lambda x: \"{0:d}\".format(int(x.nobs))\n",
    "        })"
   ]
  }
 ],
 "metadata": {
  "editor": "DataCamp Workspace",
  "kernelspec": {
   "display_name": "Python 3",
   "language": "python",
   "name": "python3"
  },
  "language_info": {
   "codemirror_mode": {
    "name": "ipython",
    "version": 3
   },
   "file_extension": ".py",
   "mimetype": "text/x-python",
   "name": "python",
   "nbconvert_exporter": "python",
   "pygments_lexer": "ipython3",
   "version": "3.8.8"
  }
 },
 "nbformat": 4,
 "nbformat_minor": 5
}
